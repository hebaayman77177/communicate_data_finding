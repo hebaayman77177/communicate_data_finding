{
 "cells": [
  {
   "cell_type": "markdown",
   "metadata": {
    "id": "JXbuDMSd1xIy",
    "slideshow": {
     "slide_type": "slide"
    }
   },
   "source": [
    "# Healt Care Analytics\n",
    "## by Heba Ayman"
   ]
  },
  {
   "cell_type": "markdown",
   "metadata": {
    "id": "89cQska41xI2",
    "slideshow": {
     "slide_type": "slide"
    }
   },
   "source": [
    "## Investigation Overview\n",
    "\n",
    "> Recent Covid-19 Pandemic has raised alarms over one of the most overlooked area to focus: Healthcare Management. While healthcare management has various use cases for using data science, patient length of stay is one critical parameter to observe and predict if one wants to improve the efficiency of the healthcare management in a hospital.\n",
    "\n",
    "## Dataset Overview\n",
    "\n",
    "> The data set are collected from many hospitals from many regions in many patient's cases to measure how time they stay in the hospitals.it records some patients informations and what they were doing in the hospital."
   ]
  },
  {
   "cell_type": "code",
   "execution_count": null,
   "metadata": {
    "id": "3rOHf86M1xI5",
    "slideshow": {
     "slide_type": "skip"
    }
   },
   "outputs": [],
   "source": [
    "# import all packages and set plots to be embedded inline\n",
    "import numpy as np\n",
    "import pandas as pd\n",
    "import matplotlib.pyplot as plt\n",
    "import seaborn as sb\n",
    "\n",
    "%matplotlib inline\n",
    "\n",
    "# suppress warnings from final output\n",
    "import warnings\n",
    "warnings.simplefilter(\"ignore\")"
   ]
  },
  {
   "cell_type": "code",
   "execution_count": null,
   "metadata": {
    "id": "TguOyS29_ov8",
    "slideshow": {
     "slide_type": "skip"
    }
   },
   "outputs": [],
   "source": [
    "# from google.colab import drive\n",
    "# drive.mount('/content/drive')\n",
    "# !cp /content/drive/'My Drive'/clean_df.csv ."
   ]
  },
  {
   "cell_type": "code",
   "execution_count": null,
   "metadata": {
    "id": "FPEobupV1xJH",
    "slideshow": {
     "slide_type": "skip"
    }
   },
   "outputs": [],
   "source": [
    "# load in the dataset into a pandas dataframe\n",
    "df = pd.read_csv('./clean_df.csv')\n",
    "def make_orderd_cat(col,order):\n",
    "  ordered_cat = pd.api.types.CategoricalDtype(ordered = True, categories = order)\n",
    "  df[col] = df[col].astype( ordered_cat)\n",
    "make_orderd_cat('Stay',['0-10', '11-20', '21-30', '31-40','41-50','51-60','61-70','71-80','81-90','91-100','More than 100 Days'])\n",
    "make_orderd_cat('Age',['0-10', '11-20', '21-30', '31-40','41-50','51-60','61-70','71-80','81-90','91-100'])\n",
    "make_orderd_cat('Severity_of_Illness',['Minor', 'Moderate', 'Extreme'])\n",
    "base_color = sb.color_palette()[0]"
   ]
  },
  {
   "cell_type": "markdown",
   "metadata": {
    "id": "OS5Bzoez1xJT",
    "slideshow": {
     "slide_type": "slide"
    }
   },
   "source": [
    "## (Visualization 1)\n",
    "\n",
    "> The distribution of the ranges of days the people stay in the hospitals, most of the cases are in range from 11 to 40 days."
   ]
  },
  {
   "cell_type": "code",
   "execution_count": null,
   "metadata": {
    "colab": {
     "base_uri": "https://localhost:8080/",
     "height": 403
    },
    "id": "sTu11wbMG8p1",
    "outputId": "5ff43270-578e-4cb4-b316-7e13b639483d",
    "slideshow": {
     "slide_type": "fragment"
    }
   },
   "outputs": [
    {
     "data": {
      "text/plain": [
       "Text(0.5, 0, 'Stay days(Day)')"
      ]
     },
     "execution_count": 40,
     "metadata": {
      "tags": []
     },
     "output_type": "execute_result"
    },
    {
     "data": {
      "image/png": "[encoded data removed]",
      "text/plain": [
       "<Figure size 432x288 with 1 Axes>"
      ]
     },
     "metadata": {
      "needs_background": "light",
      "tags": []
     },
     "output_type": "display_data"
    }
   ],
   "source": [
    "sb.countplot(data = df, x ='Stay',color=base_color)\n",
    "plt.xticks(rotation = 90)\n",
    "plt.title('Bar plot of ranges of the days to stay')\n",
    "plt.xlabel('Stay days(Day)')"
   ]
  },
  {
   "cell_type": "markdown",
   "metadata": {
    "collapsed": true,
    "id": "IgcXqSO21xJb",
    "slideshow": {
     "slide_type": "slide"
    }
   },
   "source": [
    "## (Visualization 2)\n",
    "\n",
    "> The average stay days for every severity of illness category, as the severity of illness get worse the average increase."
   ]
  },
  {
   "cell_type": "code",
   "execution_count": null,
   "metadata": {
    "colab": {
     "base_uri": "https://localhost:8080/",
     "height": 312
    },
    "id": "TjzsOUdj1xJU",
    "outputId": "e53f6c9b-f80c-42b9-964b-68160d8d778f",
    "slideshow": {
     "slide_type": "fragment"
    }
   },
   "outputs": [
    {
     "data": {
      "text/plain": [
       "Text(0.5, 1.0, 'Average num of stay days ber severity of illness')"
      ]
     },
     "execution_count": 41,
     "metadata": {
      "tags": []
     },
     "output_type": "execute_result"
    },
    {
     "data": {
      "image/png": "[encoded data removed]",
      "text/plain": [
       "<Figure size 432x288 with 1 Axes>"
      ]
     },
     "metadata": {
      "needs_background": "light",
      "tags": []
     },
     "output_type": "display_data"
    }
   ],
   "source": [
    "sb.barplot(data = df,y = 'Stay_num', x = 'Severity_of_Illness', color = base_color)\n",
    "plt.ylabel('Average days(day)')\n",
    "plt.xlabel('Severity of illness')\n",
    "plt.title('Average num of stay days ber severity of illness')"
   ]
  },
  {
   "cell_type": "markdown",
   "metadata": {
    "id": "yQLWH5qh1xJl",
    "slideshow": {
     "slide_type": "slide"
    }
   },
   "source": [
    "## (Visualization 3)\n",
    "> The average stay days for every  Type of Admission.\n",
    "Trauma have the most average."
   ]
  },
  {
   "cell_type": "code",
   "execution_count": null,
   "metadata": {
    "colab": {
     "base_uri": "https://localhost:8080/",
     "height": 312
    },
    "id": "XYHDMb5M1xJd",
    "outputId": "ab6f89c9-7c30-4491-9763-2da2a381dbdb",
    "slideshow": {
     "slide_type": "fragment"
    }
   },
   "outputs": [
    {
     "data": {
      "text/plain": [
       "Text(0.5, 1.0, 'Average num of stay days ber Type of Admission')"
      ]
     },
     "execution_count": 42,
     "metadata": {
      "tags": []
     },
     "output_type": "execute_result"
    },
    {
     "data": {
      "image/png": "[encoded data removed]",
      "text/plain": [
       "<Figure size 432x288 with 1 Axes>"
      ]
     },
     "metadata": {
      "needs_background": "light",
      "tags": []
     },
     "output_type": "display_data"
    }
   ],
   "source": [
    "cat_order = df['Type_of_Admission'].value_counts().index\n",
    "sb.barplot(data = df,y = 'Stay_num', x = 'Type_of_Admission', color = base_color,order=cat_order)\n",
    "plt.ylabel('Average days(day)')\n",
    "plt.xlabel('Type of Admission')\n",
    "plt.title('Average num of stay days ber Type of Admission')"
   ]
  },
  {
   "cell_type": "markdown",
   "metadata": {
    "id": "xPZNsSxqNhyN",
    "slideshow": {
     "slide_type": "slide"
    }
   },
   "source": [
    "## (Visualization 4)\n",
    "> The distribution between Age and number of stay days. it appears as gaussian distribution with peak at aage between[30,50] and stay days between[10,30]"
   ]
  },
  {
   "cell_type": "code",
   "execution_count": null,
   "metadata": {
    "colab": {
     "base_uri": "https://localhost:8080/",
     "height": 319
    },
    "id": "2uhOFNl41xJm",
    "outputId": "6a602847-2d99-43b8-98cc-755da3a0f5d5",
    "slideshow": {
     "slide_type": "fragment"
    }
   },
   "outputs": [
    {
     "data": {
      "image/png": "[encoded data removed]",
      "text/plain": [
       "<Figure size 432x288 with 2 Axes>"
      ]
     },
     "metadata": {
      "needs_background": "light",
      "tags": []
     },
     "output_type": "display_data"
    }
   ],
   "source": [
    "bins_x = np.arange(0, 110, 10)\n",
    "bins_y = np.arange(0, 110, 10)\n",
    "plt.hist2d(data = df, x = 'Age_num', y = 'Stay_num',\n",
    "           bins = [bins_x, bins_y])\n",
    "plt.xlabel('Age')\n",
    "plt.ylabel('number of stay days(day)')\n",
    "plt.title('2D histogram between the Age and the days of stay',pad=30)\n",
    "plt.colorbar();"
   ]
  },
  {
   "cell_type": "markdown",
   "metadata": {
    "id": "OBWvx2QtO2pj",
    "slideshow": {
     "slide_type": "slide"
    }
   },
   "source": [
    "## (Visualization 5)\n",
    "> The average num of stay days ber ward type ber department, the average for the S ward type appears higher for surgery department than the other departments."
   ]
  },
  {
   "cell_type": "code",
   "execution_count": null,
   "metadata": {
    "colab": {
     "base_uri": "https://localhost:8080/",
     "height": 399
    },
    "id": "APKh5S-nHe3Z",
    "outputId": "773f9704-cc59-41a3-ea41-a65fb23b69cd",
    "slideshow": {
     "slide_type": "fragment"
    }
   },
   "outputs": [
    {
     "data": {
      "text/plain": [
       "Text(0.5, 1.0, 'Average num of stay days ber ward type ber department')"
      ]
     },
     "execution_count": 44,
     "metadata": {
      "tags": []
     },
     "output_type": "execute_result"
    },
    {
     "data": {
      "image/png": "[encoded data removed]",
      "text/plain": [
       "<Figure size 432x288 with 1 Axes>"
      ]
     },
     "metadata": {
      "needs_background": "light",
      "tags": []
     },
     "output_type": "display_data"
    }
   ],
   "source": [
    "sb.barplot(data = df,y = 'Stay_num', x = 'Department',hue='Ward_Type', color = base_color)\n",
    "plt.xticks(rotation=90)\n",
    "plt.title('Average num of stay days ber ward type ber department')"
   ]
  },
  {
   "cell_type": "code",
   "execution_count": null,
   "metadata": {
    "id": "IBkRzGgnXKXF",
    "slideshow": {
     "slide_type": "skip"
    }
   },
   "outputs": [],
   "source": []
  },
  {
   "cell_type": "code",
   "execution_count": 46,
   "metadata": {
    "colab": {
     "base_uri": "https://localhost:8080/"
    },
    "id": "iQeJ-LN4XZOV",
    "outputId": "a76b207b-98fb-4899-a4e1-f5ac34da0409",
    "slideshow": {
     "slide_type": "skip"
    }
   },
   "outputs": [
    {
     "name": "stdout",
     "output_type": "stream",
     "text": [
      "[NbConvertApp] Converting notebook /content/slide_deck_template(2).ipynb to html\n",
      "[NbConvertApp] Writing 372781 bytes to /content/slide_deck_template(2).html\n"
     ]
    }
   ],
   "source": [
    "!jupyter nbconvert --to html /content/'slide_deck_template(2)'.ipynb"
   ]
  },
  {
   "cell_type": "code",
   "execution_count": 49,
   "metadata": {
    "colab": {
     "base_uri": "https://localhost:8080/"
    },
    "id": "klxJdMxxZ8Av",
    "outputId": "efa28931-18f2-47f3-9769-224a1e5cdd63",
    "slideshow": {
     "slide_type": "skip"
    }
   },
   "outputs": [
    {
     "name": "stdout",
     "output_type": "stream",
     "text": [
      "[NbConvertApp] Converting notebook slide_deck_template(2).ipynb to slides\n",
      "[NbConvertApp] Writing 378041 bytes to slide_deck_template(2).slides.html\n",
      "[NbConvertApp] Redirecting reveal.js requests to https://cdnjs.cloudflare.com/ajax/libs/reveal.js/3.5.0\n",
      "Serving your slides at http://127.0.0.1:8000/slide_deck_template(2).slides.html\n",
      "Use Control-C to stop this server\n",
      "[NbConvertApp] WARNING | No web browser found: could not locate runnable browser.\n",
      "\n",
      "Interrupted\n"
     ]
    }
   ],
   "source": [
    "!jupyter nbconvert 'slide_deck_template(2)'.ipynb --to slides --post serve "
   ]
  },
  {
   "cell_type": "code",
   "execution_count": null,
   "metadata": {
    "id": "VIgdA9AwaRHS",
    "slideshow": {
     "slide_type": "skip"
    }
   },
   "outputs": [],
   "source": []
  }
 ],
 "metadata": {
  "celltoolbar": "Slideshow",
  "colab": {
   "name": "slide_deck_template.ipynb",
   "provenance": []
  },
  "kernelspec": {
   "display_name": "Python 3",
   "language": "python",
   "name": "python3"
  },
  "language_info": {
   "codemirror_mode": {
    "name": "ipython",
    "version": 3
   },
   "file_extension": ".py",
   "mimetype": "text/x-python",
   "name": "python",
   "nbconvert_exporter": "python",
   "pygments_lexer": "ipython3",
   "version": "3.6.9"
  }
 },
 "nbformat": 4,
 "nbformat_minor": 1
}
